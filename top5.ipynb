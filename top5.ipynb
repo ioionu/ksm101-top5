{
 "cells": [
  {
   "cell_type": "code",
   "execution_count": 57,
   "id": "8997e17f-1dc5-4b50-9806-87a726abca8a",
   "metadata": {},
   "outputs": [],
   "source": [
    "import pandas as pd\n",
    "import numpy as np\n",
    "import matplotlib.pyplot as plt\n",
    "import matplotlib.dates as mdates\n",
    "%matplotlib inline"
   ]
  },
  {
   "cell_type": "code",
   "execution_count": 58,
   "id": "dea48a18-9ed6-436a-917f-aa19f5d5f75e",
   "metadata": {},
   "outputs": [],
   "source": [
    "fish = pd.read_excel('Top 5 marine creatures 2022 sem 1.xlsx')"
   ]
  },
  {
   "cell_type": "code",
   "execution_count": 76,
   "id": "c88f459f-6b58-42fb-b88b-8f0343cb46a4",
   "metadata": {},
   "outputs": [],
   "source": [
    "# little cleanup of species names.\n",
    "for i in range(fish.shape[0]):\n",
    "    species = fish['Species'].iat[i].lower().strip()\n",
    "    if species.find('sunfish') >= 0:\n",
    "        species = 'sunfish'\n",
    "    if species.find('great white shark') == 0:\n",
    "        species = 'great white sharks'\n",
    "    if species == 'whaleshark':\n",
    "        species = 'whale sharks'\n",
    "    if species.find('orca') >= 0:\n",
    "        species = 'orca'\n",
    "    fish['Species'].iat[i] = species\n"
   ]
  },
  {
   "cell_type": "code",
   "execution_count": 82,
   "id": "a4a132fe-c317-428e-bbf5-d1c5a9f80b16",
   "metadata": {},
   "outputs": [],
   "source": [
    "clean = fish.to_csv('clean.csv')"
   ]
  },
  {
   "cell_type": "code",
   "execution_count": 77,
   "id": "a5688364-8a4e-4e74-9caa-3eac2737fa8c",
   "metadata": {},
   "outputs": [
    {
     "data": {
      "text/html": [
       "<div>\n",
       "<style scoped>\n",
       "    .dataframe tbody tr th:only-of-type {\n",
       "        vertical-align: middle;\n",
       "    }\n",
       "\n",
       "    .dataframe tbody tr th {\n",
       "        vertical-align: top;\n",
       "    }\n",
       "\n",
       "    .dataframe thead th {\n",
       "        text-align: right;\n",
       "    }\n",
       "</style>\n",
       "<table border=\"1\" class=\"dataframe\">\n",
       "  <thead>\n",
       "    <tr style=\"text-align: right;\">\n",
       "      <th></th>\n",
       "      <th>presence</th>\n",
       "      <th>score</th>\n",
       "    </tr>\n",
       "    <tr>\n",
       "      <th>Species</th>\n",
       "      <th></th>\n",
       "      <th></th>\n",
       "    </tr>\n",
       "  </thead>\n",
       "  <tbody>\n",
       "    <tr>\n",
       "      <th>octopus</th>\n",
       "      <td>11</td>\n",
       "      <td>43</td>\n",
       "    </tr>\n",
       "    <tr>\n",
       "      <th>sharks</th>\n",
       "      <td>10</td>\n",
       "      <td>30</td>\n",
       "    </tr>\n",
       "    <tr>\n",
       "      <th>whales</th>\n",
       "      <td>9</td>\n",
       "      <td>31</td>\n",
       "    </tr>\n",
       "    <tr>\n",
       "      <th>seals</th>\n",
       "      <td>7</td>\n",
       "      <td>16</td>\n",
       "    </tr>\n",
       "    <tr>\n",
       "      <th>sea turtles</th>\n",
       "      <td>6</td>\n",
       "      <td>16</td>\n",
       "    </tr>\n",
       "  </tbody>\n",
       "</table>\n",
       "</div>"
      ],
      "text/plain": [
       "             presence  score\n",
       "Species                     \n",
       "octopus            11     43\n",
       "sharks             10     30\n",
       "whales              9     31\n",
       "seals               7     16\n",
       "sea turtles         6     16"
      ]
     },
     "execution_count": 77,
     "metadata": {},
     "output_type": "execute_result"
    }
   ],
   "source": [
    "species_rank = fish.pivot_table(index='Species', values=['presence', 'score'], aggfunc=np.sum).sort_values(by='presence', ascending=False)\n",
    "species_rank[0:5]"
   ]
  },
  {
   "cell_type": "code",
   "execution_count": 79,
   "id": "91d38e84-9fad-4df9-a999-5c73fca59079",
   "metadata": {},
   "outputs": [
    {
     "data": {
      "text/html": [
       "<div>\n",
       "<style scoped>\n",
       "    .dataframe tbody tr th:only-of-type {\n",
       "        vertical-align: middle;\n",
       "    }\n",
       "\n",
       "    .dataframe tbody tr th {\n",
       "        vertical-align: top;\n",
       "    }\n",
       "\n",
       "    .dataframe thead th {\n",
       "        text-align: right;\n",
       "    }\n",
       "</style>\n",
       "<table border=\"1\" class=\"dataframe\">\n",
       "  <thead>\n",
       "    <tr style=\"text-align: right;\">\n",
       "      <th></th>\n",
       "      <th>presence</th>\n",
       "      <th>score</th>\n",
       "    </tr>\n",
       "    <tr>\n",
       "      <th>Species</th>\n",
       "      <th></th>\n",
       "      <th></th>\n",
       "    </tr>\n",
       "  </thead>\n",
       "  <tbody>\n",
       "    <tr>\n",
       "      <th>sharks</th>\n",
       "      <td>10</td>\n",
       "      <td>30</td>\n",
       "    </tr>\n",
       "    <tr>\n",
       "      <th>great white sharks</th>\n",
       "      <td>3</td>\n",
       "      <td>5</td>\n",
       "    </tr>\n",
       "    <tr>\n",
       "      <th>whale sharks</th>\n",
       "      <td>2</td>\n",
       "      <td>7</td>\n",
       "    </tr>\n",
       "    <tr>\n",
       "      <th>cookie cutter shark</th>\n",
       "      <td>1</td>\n",
       "      <td>2</td>\n",
       "    </tr>\n",
       "    <tr>\n",
       "      <th>epaulette shark</th>\n",
       "      <td>1</td>\n",
       "      <td>4</td>\n",
       "    </tr>\n",
       "  </tbody>\n",
       "</table>\n",
       "</div>"
      ],
      "text/plain": [
       "                     presence  score\n",
       "Species                             \n",
       "sharks                     10     30\n",
       "great white sharks          3      5\n",
       "whale sharks                2      7\n",
       "cookie cutter shark         1      2\n",
       "epaulette shark             1      4"
      ]
     },
     "execution_count": 79,
     "metadata": {},
     "output_type": "execute_result"
    }
   ],
   "source": [
    "# just sharks\n",
    "sharks = fish[fish['Species'].str.find(\"shark\") >= 0]\n",
    "sharks\n",
    "shark_rank = sharks.pivot_table(index='Species', values=['presence', 'score'], aggfunc=np.sum).sort_values(by='presence', ascending=False)\n",
    "shark_rank[0:5]"
   ]
  },
  {
   "cell_type": "code",
   "execution_count": 80,
   "id": "211275a5-0899-4b52-b0b5-e780e6b4fd15",
   "metadata": {},
   "outputs": [
    {
     "data": {
      "text/html": [
       "<div>\n",
       "<style scoped>\n",
       "    .dataframe tbody tr th:only-of-type {\n",
       "        vertical-align: middle;\n",
       "    }\n",
       "\n",
       "    .dataframe tbody tr th {\n",
       "        vertical-align: top;\n",
       "    }\n",
       "\n",
       "    .dataframe thead th {\n",
       "        text-align: right;\n",
       "    }\n",
       "</style>\n",
       "<table border=\"1\" class=\"dataframe\">\n",
       "  <thead>\n",
       "    <tr style=\"text-align: right;\">\n",
       "      <th></th>\n",
       "      <th>presence</th>\n",
       "      <th>score</th>\n",
       "    </tr>\n",
       "    <tr>\n",
       "      <th>group</th>\n",
       "      <th></th>\n",
       "      <th></th>\n",
       "    </tr>\n",
       "  </thead>\n",
       "  <tbody>\n",
       "    <tr>\n",
       "      <th>mammal</th>\n",
       "      <td>49</td>\n",
       "      <td>157</td>\n",
       "    </tr>\n",
       "    <tr>\n",
       "      <th>fish</th>\n",
       "      <td>30</td>\n",
       "      <td>87</td>\n",
       "    </tr>\n",
       "    <tr>\n",
       "      <th>elasmobranch</th>\n",
       "      <td>29</td>\n",
       "      <td>82</td>\n",
       "    </tr>\n",
       "    <tr>\n",
       "      <th>Cephalopod</th>\n",
       "      <td>21</td>\n",
       "      <td>68</td>\n",
       "    </tr>\n",
       "    <tr>\n",
       "      <th>reptile</th>\n",
       "      <td>17</td>\n",
       "      <td>51</td>\n",
       "    </tr>\n",
       "  </tbody>\n",
       "</table>\n",
       "</div>"
      ],
      "text/plain": [
       "              presence  score\n",
       "group                        \n",
       "mammal              49    157\n",
       "fish                30     87\n",
       "elasmobranch        29     82\n",
       "Cephalopod          21     68\n",
       "reptile             17     51"
      ]
     },
     "execution_count": 80,
     "metadata": {},
     "output_type": "execute_result"
    }
   ],
   "source": [
    "tax_rank = fish.pivot_table(index='group', values=['presence', 'score'], aggfunc=np.sum).sort_values(by='presence', ascending=False)\n",
    "tax_rank[0:5]"
   ]
  },
  {
   "cell_type": "code",
   "execution_count": 81,
   "id": "0f0cfe9c-e949-4aa8-8490-eccd460819c1",
   "metadata": {},
   "outputs": [
    {
     "data": {
      "text/plain": [
       "<AxesSubplot:xlabel='group'>"
      ]
     },
     "execution_count": 81,
     "metadata": {},
     "output_type": "execute_result"
    },
    {
     "data": {
      "image/png": "[encoded data removed]",
      "text/plain": [
       "<Figure size 432x288 with 1 Axes>"
      ]
     },
     "metadata": {
      "needs_background": "light"
     },
     "output_type": "display_data"
    }
   ],
   "source": [
    "tax_rank[0:5].plot.bar()"
   ]
  }
 ],
 "metadata": {
  "kernelspec": {
   "display_name": "Python 3 (ipykernel)",
   "language": "python",
   "name": "python3"
  },
  "language_info": {
   "codemirror_mode": {
    "name": "ipython",
    "version": 3
   },
   "file_extension": ".py",
   "mimetype": "text/x-python",
   "name": "python",
   "nbconvert_exporter": "python",
   "pygments_lexer": "ipython3",
   "version": "3.9.2"
  }
 },
 "nbformat": 4,
 "nbformat_minor": 5
}
